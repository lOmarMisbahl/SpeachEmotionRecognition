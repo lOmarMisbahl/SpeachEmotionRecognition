{
  "nbformat": 4,
  "nbformat_minor": 0,
  "metadata": {
    "colab": {
      "name": "SpeachEmotionRecognition.ipynb",
      "provenance": [],
      "collapsed_sections": [],
      "authorship_tag": "ABX9TyNOZNdwC38pNw94gmoQ2Zg4",
      "include_colab_link": true
    },
    "kernelspec": {
      "name": "python3",
      "display_name": "Python 3"
    },
    "language_info": {
      "name": "python"
    }
  },
  "cells": [
    {
      "cell_type": "markdown",
      "metadata": {
        "id": "view-in-github",
        "colab_type": "text"
      },
      "source": [
        "<a href=\"https://colab.research.google.com/github/lOmarMisbahl/SpeachEmotionRecognition/blob/main/SpeachEmotionRecognition.ipynb\" target=\"_parent\"><img src=\"https://colab.research.google.com/assets/colab-badge.svg\" alt=\"Open In Colab\"/></a>"
      ]
    },
    {
      "cell_type": "code",
      "metadata": {
        "id": "yjlK9p9r2xU2"
      },
      "source": [
        "import numpy as np\n",
        "import pandas as pd\n",
        "from scipy.io import wavfile\n",
        "import os\n",
        "import matplotlib.pyplot as plt\n",
        "from scipy import signal\n",
        "import librosa\n",
        "import librosa.display\n",
        "from sklearn.model_selection import train_test_split\n",
        "import tensorflow as tf\n",
        "from tensorflow.keras import layers\n",
        "from tensorflow.keras.optimizers import SGD, Adam\n",
        "import cv2\n",
        "import matplotlib.pyplot as plt\n",
        "from tensorflow.keras.utils import to_categorical\n",
        "from sklearn.metrics import f1_score\n",
        "from sklearn.metrics import confusion_matrix as confusion\n",
        "import matplotlib.pyplot as plt\n"
      ],
      "execution_count": null,
      "outputs": []
    },
    {
      "cell_type": "code",
      "metadata": {
        "colab": {
          "base_uri": "https://localhost:8080/"
        },
        "id": "34Lx7hnZ6hc7",
        "outputId": "be39c850-8b40-4582-9c13-e4d7b61f7647"
      },
      "source": [
        "from google.colab import drive\n",
        "drive.mount('/content/drive')"
      ],
      "execution_count": null,
      "outputs": [
        {
          "output_type": "stream",
          "text": [
            "Mounted at /content/drive\n"
          ],
          "name": "stdout"
        }
      ]
    },
    {
      "cell_type": "code",
      "metadata": {
        "id": "e2dCrmll7b5m"
      },
      "source": [
        "def ReadAudio(path):\n",
        "    i=0\n",
        "    for dirname, _, filenames in os.walk(path):\n",
        "        for filename in filenames:\n",
        "            basename = os.path.basename(filename)\n",
        "            emotion = emotion2int[basename.split(\"_\")[2]]\n",
        "            Emotions[i]=emotion\n",
        "            samplerate, data = wavfile.read(os.path.join(dirname, filename))\n",
        "            zero_crss_rate = ((data[:-1] * data[1:]) < 0).sum()\n",
        "            data , sr = librosa.load(dirname+\"/\"+filename)\n",
        "            S, phase = librosa.magphase(librosa.stft(data))\n",
        "            Energies[i]=librosa.feature.rms(y=data,S=S)\n",
        "            ZeroRates[i]=zero_crss_rate\n",
        "            frequencies, times, spectrogram = signal.spectrogram(data, samplerate)\n",
        "            DB = librosa.amplitude_to_db(spectrogram, ref=np.max)\n",
        "            MelSpectrograms[i]=DB\n",
        "            i=i+1          "
      ],
      "execution_count": null,
      "outputs": []
    },
    {
      "cell_type": "code",
      "metadata": {
        "id": "bBDbqt6XYSj_"
      },
      "source": [
        "path=\"/content/drive/MyDrive/CREMA\"\n",
        "emotion2int = {\n",
        "    \"NEU\": 1,\n",
        "    \"HAP\": 2,\n",
        "    \"SAD\": 3,\n",
        "    \"DIS\": 4,\n",
        "    \"FEA\": 5,\n",
        "    \"ANG\": 6\n",
        "}\n",
        "Energies=dict.fromkeys(range(7498), [])\n",
        "ZeroRates=np.zeros(7498,int)\n",
        "Emotions=np.zeros(7498,int)\n",
        "MelSpectrograms = dict.fromkeys(range(7498), [])\n",
        "ReadAudio(path)"
      ],
      "execution_count": null,
      "outputs": []
    },
    {
      "cell_type": "code",
      "metadata": {
        "id": "j1O38B7EuLrk"
      },
      "source": [
        "# Resizing MelSpectrograms to the size of the largest\n",
        "import cv2\n",
        "import matplotlib.pyplot as plt\n",
        "\n",
        "MelSpectrograms_rs= dict.fromkeys(range(7498), [])\n",
        "for i in range(7498):\n",
        "  MelSpectrograms_rs[i] = cv2.resize(MelSpectrograms[i],(357,129))\n",
        "  "
      ],
      "execution_count": null,
      "outputs": []
    },
    {
      "cell_type": "code",
      "metadata": {
        "id": "M4l-51V6aeRm"
      },
      "source": [
        "#Energies=np.transpose(Energies)\n",
        "#Energies=Energies.reshape(7498,1)\n",
        "ZeroRates=np.transpose(ZeroRates)\n",
        "ZeroRates=ZeroRates.reshape(7498,1)\n",
        "Emotions=np.transpose(Emotions)\n",
        "Emotions=Emotions.reshape(7498,1)\n",
        "#FeatureSpace1= np.hstack((Energies,ZeroRates))"
      ],
      "execution_count": null,
      "outputs": []
    },
    {
      "cell_type": "code",
      "metadata": {
        "id": "_Nxx_V7XACdT"
      },
      "source": [
        "def measure_f(grndtruth, y_predict):\n",
        "  fmeasure=f1_score(grndtruth,y_predict,average='micro')\n",
        "  print(\"The F-Measure Score is:\\n\",fmeasure)\n"
      ],
      "execution_count": null,
      "outputs": []
    },
    {
      "cell_type": "code",
      "metadata": {
        "id": "uccnuOTo8J2s"
      },
      "source": [
        "def split(featureSpace,labels,testRatio):\n",
        "     X_train, X_test, y_train, y_test = train_test_split(featureSpace,labels,test_size=testRatio,shuffle=False)\n",
        "     return X_train, X_test, y_train, y_test"
      ],
      "execution_count": null,
      "outputs": []
    },
    {
      "cell_type": "code",
      "metadata": {
        "id": "QV5m7PIV9HCO"
      },
      "source": [
        "FeatureSpace1_Train,FeatureSpace1_Test,FeatureSpace1_TrainLabels,FeatureSpace1_TestLabels= split(Energies,Emotions,0.3)\n",
        "FeatureSpace2_Train,FeatureSpace2_Test,FeatureSpace2_TrainLabels,FeatureSpace2_TestLabels= split(MelSpectrograms_rs,Emotions,0.3)"
      ],
      "execution_count": null,
      "outputs": []
    },
    {
      "cell_type": "code",
      "metadata": {
        "colab": {
          "base_uri": "https://localhost:8080/"
        },
        "id": "t0p_BezO6XAN",
        "outputId": "3742b135-0592-4cd0-8a71-af739157a0d7"
      },
      "source": [
        "print(np.shape(FeatureSpace2_Train))\n",
        "print(np.shape(FeatureSpace2_Test))\n",
        "print(np.unique(Emotions))\n"
      ],
      "execution_count": null,
      "outputs": [
        {
          "output_type": "stream",
          "text": [
            "(5248, 129, 357)\n",
            "(2250, 129, 357)\n",
            "[1 2 3 4 5 6]\n"
          ],
          "name": "stdout"
        }
      ]
    },
    {
      "cell_type": "code",
      "metadata": {
        "colab": {
          "base_uri": "https://localhost:8080/"
        },
        "id": "myqY8upL5i93",
        "outputId": "cdeeadd4-9c93-4baf-f12d-8dc4bc09e09c"
      },
      "source": [
        "FeatureSpace2_Train = np.array(FeatureSpace2_Train)\n",
        "FeatureSpace2_Train = FeatureSpace2_Train[:,:,:,np.newaxis]\n",
        "print(FeatureSpace2_Train.shape)\n",
        "FeatureSpace2_Test = np.array(FeatureSpace2_Test)\n",
        "FeatureSpace2_Test = FeatureSpace2_Test[:,:,:,np.newaxis]\n",
        "print(FeatureSpace2_Test.shape)"
      ],
      "execution_count": null,
      "outputs": [
        {
          "output_type": "stream",
          "text": [
            "(5248, 129, 357, 1)\n",
            "(2250, 129, 357, 1)\n"
          ],
          "name": "stdout"
        }
      ]
    },
    {
      "cell_type": "code",
      "metadata": {
        "colab": {
          "base_uri": "https://localhost:8080/"
        },
        "id": "7ITCr6d87ODP",
        "outputId": "a88358c7-59ca-4fe0-9064-ed041a3d1eb7"
      },
      "source": [
        "print(type(FeatureSpace2_Train[0][0][0][0]))\n",
        "FeatureSpace2_Train = FeatureSpace2_Train.astype('float32')\n",
        "FeatureSpace2_Test = FeatureSpace2_Test.astype('float32')\n",
        "FeatureSpace2_Train = FeatureSpace2_Train / 255.\n",
        "FeatureSpace2_Test = FeatureSpace2_Test / 255.\n",
        "print(FeatureSpace2_Train[0][0][0][0])"
      ],
      "execution_count": null,
      "outputs": [
        {
          "output_type": "stream",
          "text": [
            "<class 'numpy.float32'>\n",
            "-0.063708134\n"
          ],
          "name": "stdout"
        }
      ]
    },
    {
      "cell_type": "code",
      "metadata": {
        "colab": {
          "base_uri": "https://localhost:8080/"
        },
        "id": "cgMvIeaH8q_Q",
        "outputId": "864f24e9-14d1-44a3-b459-76067f649b21"
      },
      "source": [
        "FeatureSpace2_Train = abs(FeatureSpace2_Train)\n",
        "FeatureSpace2_Test = abs(FeatureSpace2_Test)\n",
        "print(FeatureSpace2_Train[0][0][0][0])"
      ],
      "execution_count": null,
      "outputs": [
        {
          "output_type": "stream",
          "text": [
            "0.063708134\n"
          ],
          "name": "stdout"
        }
      ]
    },
    {
      "cell_type": "code",
      "metadata": {
        "colab": {
          "base_uri": "https://localhost:8080/"
        },
        "id": "q39P7EzN9Otf",
        "outputId": "39a3f7e7-144b-4ba3-f54e-533405ce70fc"
      },
      "source": [
        "!pip install keras.utils\n",
        "from tensorflow.keras.utils import to_categorical\n",
        "FeatureSpace2_TrainLabels = FeatureSpace2_TrainLabels - 1\n",
        "FeatureSpace2_TestLabels = FeatureSpace2_TestLabels - 1\n",
        "train_Y_one_hot = to_categorical(FeatureSpace2_TrainLabels)\n",
        "test_Y_one_hot = to_categorical(FeatureSpace2_TestLabels)\n",
        "print('Original label:', FeatureSpace2_TrainLabels[0])\n",
        "print('After conversion to one-hot:', train_Y_one_hot[0])"
      ],
      "execution_count": null,
      "outputs": [
        {
          "output_type": "stream",
          "text": [
            "Collecting keras.utils\n",
            "  Downloading https://files.pythonhosted.org/packages/31/a2/8be2aee1c8cd388e83d447556c2c84a396944c8bad93d710c5e757f8e98e/keras-utils-1.0.13.tar.gz\n",
            "Requirement already satisfied: Keras>=2.1.5 in /usr/local/lib/python3.7/dist-packages (from keras.utils) (2.4.3)\n",
            "Requirement already satisfied: h5py in /usr/local/lib/python3.7/dist-packages (from Keras>=2.1.5->keras.utils) (3.1.0)\n",
            "Requirement already satisfied: pyyaml in /usr/local/lib/python3.7/dist-packages (from Keras>=2.1.5->keras.utils) (3.13)\n",
            "Requirement already satisfied: scipy>=0.14 in /usr/local/lib/python3.7/dist-packages (from Keras>=2.1.5->keras.utils) (1.4.1)\n",
            "Requirement already satisfied: numpy>=1.9.1 in /usr/local/lib/python3.7/dist-packages (from Keras>=2.1.5->keras.utils) (1.19.5)\n",
            "Requirement already satisfied: cached-property; python_version < \"3.8\" in /usr/local/lib/python3.7/dist-packages (from h5py->Keras>=2.1.5->keras.utils) (1.5.2)\n",
            "Building wheels for collected packages: keras.utils\n",
            "  Building wheel for keras.utils (setup.py) ... \u001b[?25l\u001b[?25hdone\n",
            "  Created wheel for keras.utils: filename=keras_utils-1.0.13-cp37-none-any.whl size=2657 sha256=3f5d7b8de6faa8c13d768195c2597ae718e81d270347c4cd112db03391955ccd\n",
            "  Stored in directory: /root/.cache/pip/wheels/46/25/27/7707005c1cb27e1ffc8277b004ac295e34767b02b44d73d6be\n",
            "Successfully built keras.utils\n",
            "Installing collected packages: keras.utils\n",
            "Successfully installed keras.utils\n",
            "Original label: [4]\n",
            "After conversion to one-hot: [0. 0. 0. 0. 1. 0.]\n"
          ],
          "name": "stdout"
        }
      ]
    },
    {
      "cell_type": "markdown",
      "metadata": {
        "id": "W30eC1WAMFCh"
      },
      "source": [
        "# 2D CNN"
      ]
    },
    {
      "cell_type": "code",
      "metadata": {
        "id": "Fub5CUkFK0ic"
      },
      "source": [
        "import keras\n",
        "from keras.models import Sequential,Input,Model\n",
        "from keras.layers import Dense, Dropout, Flatten\n",
        "from keras.layers import Conv2D, MaxPooling2D\n",
        "from keras.layers.normalization import BatchNormalization\n",
        "from keras.layers.advanced_activations import LeakyReLU"
      ],
      "execution_count": null,
      "outputs": []
    },
    {
      "cell_type": "code",
      "metadata": {
        "id": "ZdkjxneDDiGW"
      },
      "source": [
        "batch_size = 64\n",
        "epochs = 20\n",
        "num_classes = 6"
      ],
      "execution_count": null,
      "outputs": []
    },
    {
      "cell_type": "code",
      "metadata": {
        "id": "xVkzm4EcDldH"
      },
      "source": [
        "spectr_model = Sequential()\n",
        "spectr_model.add(Conv2D(32, kernel_size=(3, 3),activation='linear',input_shape=(129,357,1),padding='same'))\n",
        "spectr_model.add(LeakyReLU(alpha=0.1))\n",
        "spectr_model.add(tf.keras.layers.Dropout(0.1))\n",
        "spectr_model.add(MaxPooling2D((2, 2),padding='same'))\n",
        "\n",
        "spectr_model.add(Conv2D(64, (3, 3), activation='linear',padding='same'))\n",
        "spectr_model.add(LeakyReLU(alpha=0.1))\n",
        "spectr_model.add(tf.keras.layers.Dropout(0.1))\n",
        "spectr_model.add(MaxPooling2D(pool_size=(2, 2),padding='same'))\n",
        "\n",
        "spectr_model.add(Conv2D(128, (3, 3), activation='linear',padding='same'))\n",
        "spectr_model.add(LeakyReLU(alpha=0.1)) \n",
        "spectr_model.add(tf.keras.layers.Dropout(0.1))                 \n",
        "spectr_model.add(MaxPooling2D(pool_size=(2, 2),padding='same'))\n",
        "\n",
        "spectr_model.add(Flatten())\n",
        "\n",
        "spectr_model.add(Dense(128, activation='linear'))\n",
        "spectr_model.add(LeakyReLU(alpha=0.1))                  \n",
        "spectr_model.add(Dense(num_classes, activation='softmax'))"
      ],
      "execution_count": null,
      "outputs": []
    },
    {
      "cell_type": "code",
      "metadata": {
        "id": "-Sn6_oerFEu8"
      },
      "source": [
        "spectr_model.compile(loss=keras.losses.categorical_crossentropy, optimizer=keras.optimizers.Adam(),metrics=['accuracy'])"
      ],
      "execution_count": null,
      "outputs": []
    },
    {
      "cell_type": "code",
      "metadata": {
        "colab": {
          "base_uri": "https://localhost:8080/"
        },
        "id": "tadIM_usFNTu",
        "outputId": "c9b89198-1097-47ed-e019-ef5e67f63934"
      },
      "source": [
        "spectr_model.summary()"
      ],
      "execution_count": null,
      "outputs": [
        {
          "output_type": "stream",
          "text": [
            "Model: \"sequential\"\n",
            "_________________________________________________________________\n",
            "Layer (type)                 Output Shape              Param #   \n",
            "=================================================================\n",
            "conv2d (Conv2D)              (None, 129, 357, 32)      320       \n",
            "_________________________________________________________________\n",
            "leaky_re_lu (LeakyReLU)      (None, 129, 357, 32)      0         \n",
            "_________________________________________________________________\n",
            "module_wrapper (ModuleWrappe (None, 129, 357, 32)      0         \n",
            "_________________________________________________________________\n",
            "max_pooling2d (MaxPooling2D) (None, 65, 179, 32)       0         \n",
            "_________________________________________________________________\n",
            "conv2d_1 (Conv2D)            (None, 65, 179, 64)       18496     \n",
            "_________________________________________________________________\n",
            "leaky_re_lu_1 (LeakyReLU)    (None, 65, 179, 64)       0         \n",
            "_________________________________________________________________\n",
            "module_wrapper_1 (ModuleWrap (None, 65, 179, 64)       0         \n",
            "_________________________________________________________________\n",
            "max_pooling2d_1 (MaxPooling2 (None, 33, 90, 64)        0         \n",
            "_________________________________________________________________\n",
            "conv2d_2 (Conv2D)            (None, 33, 90, 128)       73856     \n",
            "_________________________________________________________________\n",
            "leaky_re_lu_2 (LeakyReLU)    (None, 33, 90, 128)       0         \n",
            "_________________________________________________________________\n",
            "module_wrapper_2 (ModuleWrap (None, 33, 90, 128)       0         \n",
            "_________________________________________________________________\n",
            "max_pooling2d_2 (MaxPooling2 (None, 17, 45, 128)       0         \n",
            "_________________________________________________________________\n",
            "flatten (Flatten)            (None, 97920)             0         \n",
            "_________________________________________________________________\n",
            "dense (Dense)                (None, 128)               12533888  \n",
            "_________________________________________________________________\n",
            "leaky_re_lu_3 (LeakyReLU)    (None, 128)               0         \n",
            "_________________________________________________________________\n",
            "dense_1 (Dense)              (None, 6)                 774       \n",
            "=================================================================\n",
            "Total params: 12,627,334\n",
            "Trainable params: 12,627,334\n",
            "Non-trainable params: 0\n",
            "_________________________________________________________________\n"
          ],
          "name": "stdout"
        }
      ]
    },
    {
      "cell_type": "code",
      "metadata": {
        "id": "ff-GAsrQJRxr"
      },
      "source": [
        "#validation split\n",
        "X_dummy, valid_X , y_dummy, valid_label = split(FeatureSpace2_Train,train_Y_one_hot,0.05)\n",
        "valid_X = np.array(valid_X)\n",
        "valid_label = np.array(valid_label)\n",
        "X_dummy = np.array(X_dummy)\n",
        "y_dummy = np.array(y_dummy)\n",
        "#validation_data=(valid_X, valid_label)\n",
        "#print(type(validation_data))"
      ],
      "execution_count": null,
      "outputs": []
    },
    {
      "cell_type": "code",
      "metadata": {
        "colab": {
          "base_uri": "https://localhost:8080/"
        },
        "id": "9LAH6MraFZNk",
        "outputId": "b788c50b-328c-4102-c81a-9149ace3cd6d"
      },
      "source": [
        "spectr_train = spectr_model.fit(X_dummy, y_dummy, batch_size=batch_size,epochs=epochs,\n",
        "                                verbose=1,validation_data=(valid_X, valid_label))"
      ],
      "execution_count": null,
      "outputs": [
        {
          "output_type": "stream",
          "text": [
            "Epoch 1/20\n",
            "78/78 [==============================] - 534s 7s/step - loss: 1.6307 - accuracy: 0.3155 - val_loss: 1.5664 - val_accuracy: 0.2928\n",
            "Epoch 2/20\n",
            "78/78 [==============================] - 521s 7s/step - loss: 1.5218 - accuracy: 0.3682 - val_loss: 1.5471 - val_accuracy: 0.3080\n",
            "Epoch 3/20\n",
            "78/78 [==============================] - 524s 7s/step - loss: 1.5384 - accuracy: 0.3576 - val_loss: 1.5824 - val_accuracy: 0.3080\n",
            "Epoch 4/20\n",
            "78/78 [==============================] - 530s 7s/step - loss: 1.5259 - accuracy: 0.3677 - val_loss: 1.6344 - val_accuracy: 0.2738\n",
            "Epoch 5/20\n",
            "78/78 [==============================] - 536s 7s/step - loss: 1.5259 - accuracy: 0.3702 - val_loss: 1.5332 - val_accuracy: 0.3042\n",
            "Epoch 6/20\n",
            "78/78 [==============================] - 534s 7s/step - loss: 1.5319 - accuracy: 0.3681 - val_loss: 1.5750 - val_accuracy: 0.2852\n",
            "Epoch 7/20\n",
            "78/78 [==============================] - 572s 7s/step - loss: 1.5075 - accuracy: 0.3737 - val_loss: 1.5717 - val_accuracy: 0.3118\n",
            "Epoch 8/20\n",
            "78/78 [==============================] - 565s 7s/step - loss: 1.4821 - accuracy: 0.3909 - val_loss: 1.5481 - val_accuracy: 0.3270\n",
            "Epoch 9/20\n",
            "78/78 [==============================] - 559s 7s/step - loss: 1.4478 - accuracy: 0.3932 - val_loss: 1.5247 - val_accuracy: 0.3460\n",
            "Epoch 10/20\n",
            "78/78 [==============================] - 547s 7s/step - loss: 1.4430 - accuracy: 0.3991 - val_loss: 1.5651 - val_accuracy: 0.3042\n",
            "Epoch 11/20\n",
            "78/78 [==============================] - 552s 7s/step - loss: 1.4569 - accuracy: 0.3866 - val_loss: 1.5794 - val_accuracy: 0.3194\n",
            "Epoch 12/20\n",
            "78/78 [==============================] - 564s 7s/step - loss: 1.4162 - accuracy: 0.4099 - val_loss: 1.5259 - val_accuracy: 0.3270\n",
            "Epoch 13/20\n",
            "78/78 [==============================] - 593s 8s/step - loss: 1.4017 - accuracy: 0.4214 - val_loss: 1.5445 - val_accuracy: 0.3612\n",
            "Epoch 14/20\n",
            "78/78 [==============================] - 601s 8s/step - loss: 1.3756 - accuracy: 0.4289 - val_loss: 1.6072 - val_accuracy: 0.3194\n",
            "Epoch 15/20\n",
            "78/78 [==============================] - 596s 8s/step - loss: 1.3422 - accuracy: 0.4473 - val_loss: 1.5711 - val_accuracy: 0.3308\n",
            "Epoch 16/20\n",
            "78/78 [==============================] - 606s 8s/step - loss: 1.2622 - accuracy: 0.4904 - val_loss: 1.5820 - val_accuracy: 0.3346\n",
            "Epoch 17/20\n",
            "78/78 [==============================] - 601s 8s/step - loss: 1.2172 - accuracy: 0.4973 - val_loss: 1.5172 - val_accuracy: 0.3612\n",
            "Epoch 18/20\n",
            "78/78 [==============================] - 605s 8s/step - loss: 1.1840 - accuracy: 0.5227 - val_loss: 1.6538 - val_accuracy: 0.2966\n",
            "Epoch 19/20\n",
            "78/78 [==============================] - 593s 8s/step - loss: 1.1294 - accuracy: 0.5482 - val_loss: 1.6076 - val_accuracy: 0.3688\n",
            "Epoch 20/20\n",
            "78/78 [==============================] - 588s 8s/step - loss: 1.0438 - accuracy: 0.5875 - val_loss: 1.7071 - val_accuracy: 0.3498\n"
          ],
          "name": "stdout"
        }
      ]
    },
    {
      "cell_type": "code",
      "metadata": {
        "colab": {
          "base_uri": "https://localhost:8080/"
        },
        "id": "FE2gXFIX34X8",
        "outputId": "3dc3b6e1-919f-4ca5-9351-4f98d24963aa"
      },
      "source": [
        "spectr_model.save(\"/content/drive/MyDrive/spectr_model_no_dropout_v2.h5py\")"
      ],
      "execution_count": null,
      "outputs": [
        {
          "output_type": "stream",
          "text": [
            "WARNING:absl:Found untraced functions such as dropout_layer_call_and_return_conditional_losses, dropout_layer_call_fn, dropout_1_layer_call_and_return_conditional_losses, dropout_1_layer_call_fn, dropout_2_layer_call_and_return_conditional_losses while saving (showing 5 of 15). These functions will not be directly callable after loading.\n"
          ],
          "name": "stderr"
        },
        {
          "output_type": "stream",
          "text": [
            "INFO:tensorflow:Assets written to: /content/drive/MyDrive/spectr_model_no_dropout_v2.h5py/assets\n"
          ],
          "name": "stdout"
        },
        {
          "output_type": "stream",
          "text": [
            "INFO:tensorflow:Assets written to: /content/drive/MyDrive/spectr_model_no_dropout_v2.h5py/assets\n"
          ],
          "name": "stderr"
        }
      ]
    },
    {
      "cell_type": "code",
      "metadata": {
        "id": "aPO2TBGu2CIj"
      },
      "source": [
        "spectr_model_v2 = keras.models.load_model('/content/drive/MyDrive/spectr_model_no_dropout.h5py')"
      ],
      "execution_count": null,
      "outputs": []
    },
    {
      "cell_type": "code",
      "metadata": {
        "colab": {
          "base_uri": "https://localhost:8080/"
        },
        "id": "2spFV1rS4q3s",
        "outputId": "e85ba5a7-f481-41db-a1c8-3fc9a0c316f2"
      },
      "source": [
        "test_eval = spectr_model.evaluate(FeatureSpace2_Test, test_Y_one_hot, verbose=1)\n",
        "print('Test loss with dropout:', test_eval[0])\n",
        "print('Test accuracy with dropout:', test_eval[1])\n",
        "test_eval = spectr_model_v2.evaluate(FeatureSpace2_Test, test_Y_one_hot, verbose=1)\n",
        "print('Test loss without dropout:', test_eval[0])\n",
        "print('Test accuracy without dropout:', test_eval[1])"
      ],
      "execution_count": null,
      "outputs": [
        {
          "output_type": "stream",
          "text": [
            "71/71 [==============================] - 60s 847ms/step - loss: 1.7048 - accuracy: 0.4107\n",
            "Test loss with dropout: 1.7048466205596924\n",
            "Test accuracy with dropout: 0.41066667437553406\n",
            "71/71 [==============================] - 61s 851ms/step - loss: 51.3533 - accuracy: 0.1809\n",
            "Test loss without dropout: 51.353302001953125\n",
            "Test accuracy without dropout: 0.18088889122009277\n"
          ],
          "name": "stdout"
        }
      ]
    },
    {
      "cell_type": "code",
      "metadata": {
        "colab": {
          "base_uri": "https://localhost:8080/"
        },
        "id": "2MzXA_5n64bQ",
        "outputId": "baeafe79-3142-4228-9ec3-692746e334a0"
      },
      "source": [
        "spectr_predict=spectr_model.predict(FeatureSpace2_Test,verbose=1)\n",
        "spectr_predict_v2=spectr_model_v2.predict(FeatureSpace2_Test,verbose=1)\n",
        "spectr_predict.shape"
      ],
      "execution_count": null,
      "outputs": [
        {
          "output_type": "stream",
          "text": [
            "71/71 [==============================] - 61s 855ms/step\n",
            "71/71 [==============================] - 61s 851ms/step\n"
          ],
          "name": "stdout"
        },
        {
          "output_type": "execute_result",
          "data": {
            "text/plain": [
              "(2250, 6)"
            ]
          },
          "metadata": {
            "tags": []
          },
          "execution_count": 32
        }
      ]
    },
    {
      "cell_type": "code",
      "metadata": {
        "colab": {
          "base_uri": "https://localhost:8080/"
        },
        "id": "bzREImBo9x6z",
        "outputId": "2f5bfdc0-9a3b-4996-d7f4-ecef2a2c5be2"
      },
      "source": [
        "spectr_predict_not_hot=spectr_predict.argmax(axis=1)\n",
        "spectr_predict_v2_not_hot=spectr_predict_v2.argmax(axis=1)\n",
        "test_Y_not_hot=test_Y_one_hot.argmax(axis=1)\n",
        "print(np.unique(spectr_predict_not_hot))\n",
        "print(np.unique(test_Y_not_hot))\n",
        "measure_f(test_Y_not_hot,spectr_predict_not_hot)\n",
        "measure_f(test_Y_not_hot,spectr_predict_v2_not_hot)\n",
        "#print(spectr_predict[80])"
      ],
      "execution_count": null,
      "outputs": [
        {
          "output_type": "stream",
          "text": [
            "[0 1 2 3 4 5]\n",
            "[0 1 2 3 4 5]\n",
            "The F-Measure Score is:\n",
            " 0.4106666666666666\n",
            "The F-Measure Score is:\n",
            " 0.18088888888888888\n"
          ],
          "name": "stdout"
        }
      ]
    },
    {
      "cell_type": "code",
      "metadata": {
        "colab": {
          "base_uri": "https://localhost:8080/"
        },
        "id": "EkwHEaj3Et07",
        "outputId": "59efae9a-da0a-4f26-b1bf-f665f7ca8b5a"
      },
      "source": [
        "confusion_spectr = confusion(test_Y_not_hot, spectr_predict_not_hot)\n",
        "confusion_spectr_v2 = confusion(test_Y_not_hot, spectr_predict_v2_not_hot)\n",
        "print(confusion_spectr)"
      ],
      "execution_count": null,
      "outputs": [
        {
          "output_type": "stream",
          "text": [
            "[[190  38  59  22  19   1]\n",
            " [ 91 145  21  31  61  35]\n",
            " [ 80  17 244  24  23   1]\n",
            " [ 96  75 119  38  37  19]\n",
            " [ 74  74  92  12  95  36]\n",
            " [ 30  75   5  15  44 212]]\n"
          ],
          "name": "stdout"
        }
      ]
    },
    {
      "cell_type": "code",
      "metadata": {
        "colab": {
          "base_uri": "https://localhost:8080/",
          "height": 265
        },
        "id": "buLtckMOJ-47",
        "outputId": "9fee6d53-7481-4cb0-ed6e-210396cdb677"
      },
      "source": [
        "plt.plot(confusion_spectr)\n",
        "plt.show()"
      ],
      "execution_count": null,
      "outputs": [
        {
          "output_type": "display_data",
          "data": {
            "image/png": "[encoded data removed]",
            "text/plain": [
              "<Figure size 432x288 with 1 Axes>"
            ]
          },
          "metadata": {
            "tags": [],
            "needs_background": "light"
          }
        }
      ]
    },
    {
      "cell_type": "code",
      "metadata": {
        "colab": {
          "base_uri": "https://localhost:8080/",
          "height": 265
        },
        "id": "ywSih18KYSwa",
        "outputId": "79caf533-741c-4159-b3ce-f168849467d9"
      },
      "source": [
        "plt.plot(confusion_spectr_v2)\n",
        "plt.show()"
      ],
      "execution_count": null,
      "outputs": [
        {
          "output_type": "display_data",
          "data": {
            "image/png": "[encoded data removed]",
            "text/plain": [
              "<Figure size 432x288 with 1 Axes>"
            ]
          },
          "metadata": {
            "tags": [],
            "needs_background": "light"
          }
        }
      ]
    },
    {
      "cell_type": "code",
      "metadata": {
        "colab": {
          "base_uri": "https://localhost:8080/"
        },
        "id": "3IG5zGQ6Cwyj",
        "outputId": "27291d40-c3fd-4330-868d-8cdb07ffb3ce"
      },
      "source": [
        "i=0\n",
        "j=0\n",
        "for i in range(len(test_Y_not_hot)):\n",
        "  if(test_Y_not_hot[i]==2):\n",
        "    j=j+1\n",
        "print(j)"
      ],
      "execution_count": null,
      "outputs": [
        {
          "output_type": "stream",
          "text": [
            "389\n"
          ],
          "name": "stdout"
        }
      ]
    },
    {
      "cell_type": "markdown",
      "metadata": {
        "id": "yRBLuzpvKxmf"
      },
      "source": [
        "# 1D CNN"
      ]
    },
    {
      "cell_type": "code",
      "metadata": {
        "id": "4dpGF65tTTrd"
      },
      "source": [
        "EnergiesReshaped= dict.fromkeys(range(7498), [])\n",
        "for i in range(7498):\n",
        "  EnergiesReshaped[i] = cv2.resize(Energies[i],(1,216))\n",
        "\n",
        "Train,Test,TrainLabels,TestLabels= split(EnergiesReshaped,Emotions,0.3)\n",
        "Train = np.array(Train)\n",
        "Test = np.array(Test)\n",
        "Train = Train.astype('float32')\n",
        "Test = Test.astype('float32')\n",
        "#Train = Train / 255.\n",
        "#Test = Test / 255.\n",
        "Train = abs(Train)\n",
        "Test = abs(Test)\n",
        "\n",
        "TrainLabels = TrainLabels - 1\n",
        "TestLabels = TestLabels - 1\n",
        "TrainHot = to_categorical(TrainLabels)\n",
        "TestHot = to_categorical(TestLabels)\n",
        "#TrainSqueezed=np.squeeze(Train)"
      ],
      "execution_count": null,
      "outputs": []
    },
    {
      "cell_type": "code",
      "metadata": {
        "id": "C3XSMPkGTXnV",
        "colab": {
          "base_uri": "https://localhost:8080/"
        },
        "outputId": "4184f105-85f7-44f7-f12d-1149ab713a67"
      },
      "source": [
        "model = tf.keras.models.Sequential()\n",
        "\n",
        "model.add(tf.keras.layers.Conv1D(64, 10, padding='same', input_shape=Train[0].shape))\n",
        "model.add(tf.keras.layers.Activation('relu'))\n",
        "model.add(tf.keras.layers.Dropout(0.1))\n",
        "model.add(tf.keras.layers.MaxPooling1D(pool_size=(4)))\n",
        "\n",
        "model.add(tf.keras.layers.Conv1D(64, 10,padding='same',))\n",
        "model.add(tf.keras.layers.Activation('relu'))\n",
        "model.add(tf.keras.layers.Dropout(0.1))\n",
        "model.add(tf.keras.layers.MaxPooling1D(pool_size=(4)))\n",
        "\n",
        "model.add(tf.keras.layers.Flatten())\n",
        "\n",
        "model.add(tf.keras.layers.Dense(256))\n",
        "model.add(tf.keras.layers.Dropout(0.2))\n",
        "\n",
        "model.add(tf.keras.layers.Dense(128))\n",
        "model.add(tf.keras.layers.Dropout(0.1))\n",
        "\n",
        "model.add(tf.keras.layers.Dense(6))\n",
        "model.add(tf.keras.layers.Activation('softmax'))\n",
        "model.compile(optimizer=Adam(lr=0.0006), loss='categorical_crossentropy', metrics=['accuracy'])\n",
        "model.summary()"
      ],
      "execution_count": null,
      "outputs": [
        {
          "output_type": "stream",
          "text": [
            "Model: \"sequential\"\n",
            "_________________________________________________________________\n",
            "Layer (type)                 Output Shape              Param #   \n",
            "=================================================================\n",
            "conv1d (Conv1D)              (None, 216, 64)           704       \n",
            "_________________________________________________________________\n",
            "activation (Activation)      (None, 216, 64)           0         \n",
            "_________________________________________________________________\n",
            "dropout (Dropout)            (None, 216, 64)           0         \n",
            "_________________________________________________________________\n",
            "max_pooling1d (MaxPooling1D) (None, 54, 64)            0         \n",
            "_________________________________________________________________\n",
            "conv1d_1 (Conv1D)            (None, 54, 64)            41024     \n",
            "_________________________________________________________________\n",
            "activation_1 (Activation)    (None, 54, 64)            0         \n",
            "_________________________________________________________________\n",
            "dropout_1 (Dropout)          (None, 54, 64)            0         \n",
            "_________________________________________________________________\n",
            "max_pooling1d_1 (MaxPooling1 (None, 13, 64)            0         \n",
            "_________________________________________________________________\n",
            "flatten (Flatten)            (None, 832)               0         \n",
            "_________________________________________________________________\n",
            "dense (Dense)                (None, 256)               213248    \n",
            "_________________________________________________________________\n",
            "dropout_2 (Dropout)          (None, 256)               0         \n",
            "_________________________________________________________________\n",
            "dense_1 (Dense)              (None, 128)               32896     \n",
            "_________________________________________________________________\n",
            "dropout_3 (Dropout)          (None, 128)               0         \n",
            "_________________________________________________________________\n",
            "dense_2 (Dense)              (None, 6)                 774       \n",
            "_________________________________________________________________\n",
            "activation_2 (Activation)    (None, 6)                 0         \n",
            "=================================================================\n",
            "Total params: 288,646\n",
            "Trainable params: 288,646\n",
            "Non-trainable params: 0\n",
            "_________________________________________________________________\n"
          ],
          "name": "stdout"
        },
        {
          "output_type": "stream",
          "text": [
            "/usr/local/lib/python3.7/dist-packages/tensorflow/python/keras/optimizer_v2/optimizer_v2.py:375: UserWarning: The `lr` argument is deprecated, use `learning_rate` instead.\n",
            "  \"The `lr` argument is deprecated, use `learning_rate` instead.\")\n"
          ],
          "name": "stderr"
        }
      ]
    },
    {
      "cell_type": "code",
      "metadata": {
        "id": "olMgsN0KXQXQ"
      },
      "source": [
        "train_m, train_val , hot_m, hot_val = split(Train,TrainHot,0.05)\n",
        "train_m= np.array(train_m)\n",
        "train_val= np.array(train_val)\n",
        "hot_m= np.array(hot_m)\n",
        "hot_val= np.array(hot_val)"
      ],
      "execution_count": null,
      "outputs": []
    },
    {
      "cell_type": "code",
      "metadata": {
        "colab": {
          "base_uri": "https://localhost:8080/"
        },
        "id": "AJQYj0acZp4t",
        "outputId": "a31b778a-2866-46ef-8d00-8fc8792fddc3"
      },
      "source": [
        "Energy_Model_train = model.fit(train_m, hot_m, batch_size=64,epochs=100,verbose=1,validation_data=(train_val, hot_val))"
      ],
      "execution_count": null,
      "outputs": [
        {
          "output_type": "stream",
          "text": [
            "Epoch 1/100\n",
            "78/78 [==============================] - 8s 86ms/step - loss: 1.6556 - accuracy: 0.2879 - val_loss: 1.6963 - val_accuracy: 0.2433\n",
            "Epoch 2/100\n",
            "78/78 [==============================] - 6s 75ms/step - loss: 1.6233 - accuracy: 0.3069 - val_loss: 1.6896 - val_accuracy: 0.2471\n",
            "Epoch 3/100\n",
            "78/78 [==============================] - 6s 74ms/step - loss: 1.6146 - accuracy: 0.3117 - val_loss: 1.7341 - val_accuracy: 0.2319\n",
            "Epoch 4/100\n",
            "78/78 [==============================] - 6s 73ms/step - loss: 1.6155 - accuracy: 0.3091 - val_loss: 1.6892 - val_accuracy: 0.2586\n",
            "Epoch 5/100\n",
            "78/78 [==============================] - 6s 75ms/step - loss: 1.6136 - accuracy: 0.3119 - val_loss: 1.7012 - val_accuracy: 0.2624\n",
            "Epoch 6/100\n",
            "78/78 [==============================] - 6s 76ms/step - loss: 1.6230 - accuracy: 0.3077 - val_loss: 1.6888 - val_accuracy: 0.2852\n",
            "Epoch 7/100\n",
            "78/78 [==============================] - 6s 72ms/step - loss: 1.6129 - accuracy: 0.3103 - val_loss: 1.6918 - val_accuracy: 0.2548\n",
            "Epoch 8/100\n",
            "78/78 [==============================] - 6s 74ms/step - loss: 1.6076 - accuracy: 0.3176 - val_loss: 1.6897 - val_accuracy: 0.2624\n",
            "Epoch 9/100\n",
            "78/78 [==============================] - 6s 73ms/step - loss: 1.6102 - accuracy: 0.3099 - val_loss: 1.6912 - val_accuracy: 0.2700\n",
            "Epoch 10/100\n",
            "78/78 [==============================] - 6s 71ms/step - loss: 1.6091 - accuracy: 0.3135 - val_loss: 1.6826 - val_accuracy: 0.2700\n",
            "Epoch 11/100\n",
            "78/78 [==============================] - 6s 77ms/step - loss: 1.6073 - accuracy: 0.3149 - val_loss: 1.7078 - val_accuracy: 0.2357\n",
            "Epoch 12/100\n",
            "78/78 [==============================] - 6s 76ms/step - loss: 1.6059 - accuracy: 0.3174 - val_loss: 1.6853 - val_accuracy: 0.2852\n",
            "Epoch 13/100\n",
            "78/78 [==============================] - 6s 76ms/step - loss: 1.6069 - accuracy: 0.3093 - val_loss: 1.6922 - val_accuracy: 0.2776\n",
            "Epoch 14/100\n",
            "78/78 [==============================] - 6s 74ms/step - loss: 1.6063 - accuracy: 0.3194 - val_loss: 1.6789 - val_accuracy: 0.2624\n",
            "Epoch 15/100\n",
            "78/78 [==============================] - 6s 75ms/step - loss: 1.6055 - accuracy: 0.3192 - val_loss: 1.6877 - val_accuracy: 0.2662\n",
            "Epoch 16/100\n",
            "78/78 [==============================] - 6s 78ms/step - loss: 1.6030 - accuracy: 0.3234 - val_loss: 1.6874 - val_accuracy: 0.2662\n",
            "Epoch 17/100\n",
            "78/78 [==============================] - 6s 75ms/step - loss: 1.6053 - accuracy: 0.3180 - val_loss: 1.6827 - val_accuracy: 0.2852\n",
            "Epoch 18/100\n",
            "78/78 [==============================] - 6s 78ms/step - loss: 1.6101 - accuracy: 0.3216 - val_loss: 1.6871 - val_accuracy: 0.2700\n",
            "Epoch 19/100\n",
            "78/78 [==============================] - 6s 82ms/step - loss: 1.6041 - accuracy: 0.3180 - val_loss: 1.6874 - val_accuracy: 0.2662\n",
            "Epoch 20/100\n",
            "78/78 [==============================] - 6s 80ms/step - loss: 1.6030 - accuracy: 0.3196 - val_loss: 1.6765 - val_accuracy: 0.2738\n",
            "Epoch 21/100\n",
            "78/78 [==============================] - 6s 74ms/step - loss: 1.6055 - accuracy: 0.3180 - val_loss: 1.6793 - val_accuracy: 0.2700\n",
            "Epoch 22/100\n",
            "78/78 [==============================] - 6s 77ms/step - loss: 1.6058 - accuracy: 0.3165 - val_loss: 1.6877 - val_accuracy: 0.2510\n",
            "Epoch 23/100\n",
            "78/78 [==============================] - 6s 78ms/step - loss: 1.6022 - accuracy: 0.3172 - val_loss: 1.6875 - val_accuracy: 0.2700\n",
            "Epoch 24/100\n",
            "78/78 [==============================] - 6s 80ms/step - loss: 1.6027 - accuracy: 0.3186 - val_loss: 1.6866 - val_accuracy: 0.2624\n",
            "Epoch 25/100\n",
            "78/78 [==============================] - 6s 77ms/step - loss: 1.6049 - accuracy: 0.3236 - val_loss: 1.7109 - val_accuracy: 0.2471\n",
            "Epoch 26/100\n",
            "78/78 [==============================] - 6s 80ms/step - loss: 1.6012 - accuracy: 0.3252 - val_loss: 1.6775 - val_accuracy: 0.2738\n",
            "Epoch 27/100\n",
            "78/78 [==============================] - 7s 84ms/step - loss: 1.6015 - accuracy: 0.3212 - val_loss: 1.6903 - val_accuracy: 0.2586\n",
            "Epoch 28/100\n",
            "78/78 [==============================] - 6s 78ms/step - loss: 1.6034 - accuracy: 0.3188 - val_loss: 1.6913 - val_accuracy: 0.2662\n",
            "Epoch 29/100\n",
            "78/78 [==============================] - 6s 77ms/step - loss: 1.6041 - accuracy: 0.3206 - val_loss: 1.6810 - val_accuracy: 0.2624\n",
            "Epoch 30/100\n",
            "78/78 [==============================] - 6s 75ms/step - loss: 1.6018 - accuracy: 0.3216 - val_loss: 1.6914 - val_accuracy: 0.2890\n",
            "Epoch 31/100\n",
            "78/78 [==============================] - 6s 76ms/step - loss: 1.6022 - accuracy: 0.3161 - val_loss: 1.7096 - val_accuracy: 0.2510\n",
            "Epoch 32/100\n",
            "78/78 [==============================] - 6s 73ms/step - loss: 1.6071 - accuracy: 0.3165 - val_loss: 1.6880 - val_accuracy: 0.2738\n",
            "Epoch 33/100\n",
            "78/78 [==============================] - 6s 75ms/step - loss: 1.6048 - accuracy: 0.3135 - val_loss: 1.6961 - val_accuracy: 0.2700\n",
            "Epoch 34/100\n",
            "78/78 [==============================] - 6s 75ms/step - loss: 1.6042 - accuracy: 0.3198 - val_loss: 1.6957 - val_accuracy: 0.2662\n",
            "Epoch 35/100\n",
            "78/78 [==============================] - 6s 76ms/step - loss: 1.6036 - accuracy: 0.3230 - val_loss: 1.6938 - val_accuracy: 0.2586\n",
            "Epoch 36/100\n",
            "78/78 [==============================] - 6s 73ms/step - loss: 1.6059 - accuracy: 0.3190 - val_loss: 1.6759 - val_accuracy: 0.2776\n",
            "Epoch 37/100\n",
            "78/78 [==============================] - 6s 78ms/step - loss: 1.6013 - accuracy: 0.3224 - val_loss: 1.6831 - val_accuracy: 0.2624\n",
            "Epoch 38/100\n",
            "78/78 [==============================] - 6s 80ms/step - loss: 1.6032 - accuracy: 0.3232 - val_loss: 1.6812 - val_accuracy: 0.2776\n",
            "Epoch 39/100\n",
            "78/78 [==============================] - 6s 78ms/step - loss: 1.6047 - accuracy: 0.3155 - val_loss: 1.6825 - val_accuracy: 0.2814\n",
            "Epoch 40/100\n",
            "78/78 [==============================] - 6s 76ms/step - loss: 1.6071 - accuracy: 0.3192 - val_loss: 1.6962 - val_accuracy: 0.2624\n",
            "Epoch 41/100\n",
            "78/78 [==============================] - 6s 75ms/step - loss: 1.6038 - accuracy: 0.3198 - val_loss: 1.6809 - val_accuracy: 0.2700\n",
            "Epoch 42/100\n",
            "78/78 [==============================] - 6s 74ms/step - loss: 1.6040 - accuracy: 0.3236 - val_loss: 1.6953 - val_accuracy: 0.2662\n",
            "Epoch 43/100\n",
            "78/78 [==============================] - 6s 76ms/step - loss: 1.6032 - accuracy: 0.3238 - val_loss: 1.6938 - val_accuracy: 0.2700\n",
            "Epoch 44/100\n",
            "78/78 [==============================] - 6s 83ms/step - loss: 1.6015 - accuracy: 0.3230 - val_loss: 1.6871 - val_accuracy: 0.2624\n",
            "Epoch 45/100\n",
            "78/78 [==============================] - 6s 73ms/step - loss: 1.6045 - accuracy: 0.3178 - val_loss: 1.6854 - val_accuracy: 0.2776\n",
            "Epoch 46/100\n",
            "78/78 [==============================] - 6s 72ms/step - loss: 1.6027 - accuracy: 0.3242 - val_loss: 1.6910 - val_accuracy: 0.2662\n",
            "Epoch 47/100\n",
            "78/78 [==============================] - 6s 76ms/step - loss: 1.6019 - accuracy: 0.3165 - val_loss: 1.6810 - val_accuracy: 0.2624\n",
            "Epoch 48/100\n",
            "78/78 [==============================] - 6s 80ms/step - loss: 1.5998 - accuracy: 0.3196 - val_loss: 1.6899 - val_accuracy: 0.2776\n",
            "Epoch 49/100\n",
            "78/78 [==============================] - 6s 83ms/step - loss: 1.6062 - accuracy: 0.3198 - val_loss: 1.7053 - val_accuracy: 0.2624\n",
            "Epoch 50/100\n",
            "78/78 [==============================] - 7s 84ms/step - loss: 1.6043 - accuracy: 0.3200 - val_loss: 1.6902 - val_accuracy: 0.2776\n",
            "Epoch 51/100\n",
            "78/78 [==============================] - 6s 76ms/step - loss: 1.6013 - accuracy: 0.3212 - val_loss: 1.6976 - val_accuracy: 0.2662\n",
            "Epoch 52/100\n",
            "78/78 [==============================] - 6s 78ms/step - loss: 1.6049 - accuracy: 0.3210 - val_loss: 1.6797 - val_accuracy: 0.2738\n",
            "Epoch 53/100\n",
            "78/78 [==============================] - 6s 74ms/step - loss: 1.6005 - accuracy: 0.3222 - val_loss: 1.6953 - val_accuracy: 0.2624\n",
            "Epoch 54/100\n",
            "78/78 [==============================] - 6s 74ms/step - loss: 1.6033 - accuracy: 0.3240 - val_loss: 1.6928 - val_accuracy: 0.2624\n",
            "Epoch 55/100\n",
            "78/78 [==============================] - 6s 74ms/step - loss: 1.5985 - accuracy: 0.3232 - val_loss: 1.6903 - val_accuracy: 0.2586\n",
            "Epoch 56/100\n",
            "78/78 [==============================] - 6s 74ms/step - loss: 1.6000 - accuracy: 0.3208 - val_loss: 1.6912 - val_accuracy: 0.2662\n",
            "Epoch 57/100\n",
            "78/78 [==============================] - 6s 73ms/step - loss: 1.6001 - accuracy: 0.3230 - val_loss: 1.6877 - val_accuracy: 0.2700\n",
            "Epoch 58/100\n",
            "78/78 [==============================] - 6s 74ms/step - loss: 1.6004 - accuracy: 0.3212 - val_loss: 1.6809 - val_accuracy: 0.2586\n",
            "Epoch 59/100\n",
            "78/78 [==============================] - 6s 77ms/step - loss: 1.6024 - accuracy: 0.3224 - val_loss: 1.6951 - val_accuracy: 0.2776\n",
            "Epoch 60/100\n",
            "78/78 [==============================] - 6s 75ms/step - loss: 1.6023 - accuracy: 0.3260 - val_loss: 1.6941 - val_accuracy: 0.2510\n",
            "Epoch 61/100\n",
            "78/78 [==============================] - 6s 75ms/step - loss: 1.6004 - accuracy: 0.3226 - val_loss: 1.6933 - val_accuracy: 0.2586\n",
            "Epoch 62/100\n",
            "78/78 [==============================] - 6s 75ms/step - loss: 1.6005 - accuracy: 0.3254 - val_loss: 1.6846 - val_accuracy: 0.2776\n",
            "Epoch 63/100\n",
            "78/78 [==============================] - 6s 75ms/step - loss: 1.6010 - accuracy: 0.3180 - val_loss: 1.6916 - val_accuracy: 0.2776\n",
            "Epoch 64/100\n",
            "78/78 [==============================] - 6s 73ms/step - loss: 1.6013 - accuracy: 0.3214 - val_loss: 1.6851 - val_accuracy: 0.2776\n",
            "Epoch 65/100\n",
            "78/78 [==============================] - 6s 74ms/step - loss: 1.6025 - accuracy: 0.3216 - val_loss: 1.6810 - val_accuracy: 0.2814\n",
            "Epoch 66/100\n",
            "78/78 [==============================] - 6s 73ms/step - loss: 1.6028 - accuracy: 0.3172 - val_loss: 1.6848 - val_accuracy: 0.2776\n",
            "Epoch 67/100\n",
            "78/78 [==============================] - 6s 77ms/step - loss: 1.6010 - accuracy: 0.3168 - val_loss: 1.6846 - val_accuracy: 0.2738\n",
            "Epoch 68/100\n",
            "78/78 [==============================] - 6s 76ms/step - loss: 1.6008 - accuracy: 0.3230 - val_loss: 1.6819 - val_accuracy: 0.2776\n",
            "Epoch 69/100\n",
            "78/78 [==============================] - 6s 78ms/step - loss: 1.6004 - accuracy: 0.3163 - val_loss: 1.6998 - val_accuracy: 0.2586\n",
            "Epoch 70/100\n",
            "78/78 [==============================] - 6s 74ms/step - loss: 1.6000 - accuracy: 0.3206 - val_loss: 1.6887 - val_accuracy: 0.2624\n",
            "Epoch 71/100\n",
            "78/78 [==============================] - 6s 74ms/step - loss: 1.6011 - accuracy: 0.3200 - val_loss: 1.6975 - val_accuracy: 0.2662\n",
            "Epoch 72/100\n",
            "78/78 [==============================] - 6s 77ms/step - loss: 1.6020 - accuracy: 0.3232 - val_loss: 1.6925 - val_accuracy: 0.2624\n",
            "Epoch 73/100\n",
            "78/78 [==============================] - 6s 81ms/step - loss: 1.6003 - accuracy: 0.3214 - val_loss: 1.6949 - val_accuracy: 0.2662\n",
            "Epoch 74/100\n",
            "78/78 [==============================] - 6s 81ms/step - loss: 1.6015 - accuracy: 0.3196 - val_loss: 1.6880 - val_accuracy: 0.2662\n",
            "Epoch 75/100\n",
            "78/78 [==============================] - 6s 80ms/step - loss: 1.6001 - accuracy: 0.3244 - val_loss: 1.6801 - val_accuracy: 0.2814\n",
            "Epoch 76/100\n",
            "78/78 [==============================] - 6s 75ms/step - loss: 1.5989 - accuracy: 0.3234 - val_loss: 1.6845 - val_accuracy: 0.2776\n",
            "Epoch 77/100\n",
            "78/78 [==============================] - 6s 76ms/step - loss: 1.5995 - accuracy: 0.3212 - val_loss: 1.6866 - val_accuracy: 0.2624\n",
            "Epoch 78/100\n",
            "78/78 [==============================] - 6s 75ms/step - loss: 1.6016 - accuracy: 0.3180 - val_loss: 1.6934 - val_accuracy: 0.2700\n",
            "Epoch 79/100\n",
            "78/78 [==============================] - 6s 76ms/step - loss: 1.6010 - accuracy: 0.3216 - val_loss: 1.6998 - val_accuracy: 0.2776\n",
            "Epoch 80/100\n",
            "78/78 [==============================] - 6s 75ms/step - loss: 1.6002 - accuracy: 0.3200 - val_loss: 1.7014 - val_accuracy: 0.2700\n",
            "Epoch 81/100\n",
            "78/78 [==============================] - 6s 75ms/step - loss: 1.6006 - accuracy: 0.3204 - val_loss: 1.7047 - val_accuracy: 0.2548\n",
            "Epoch 82/100\n",
            "78/78 [==============================] - 6s 83ms/step - loss: 1.5986 - accuracy: 0.3214 - val_loss: 1.6862 - val_accuracy: 0.2738\n",
            "Epoch 83/100\n",
            "78/78 [==============================] - 6s 82ms/step - loss: 1.5995 - accuracy: 0.3214 - val_loss: 1.7141 - val_accuracy: 0.2586\n",
            "Epoch 84/100\n",
            "78/78 [==============================] - 6s 78ms/step - loss: 1.6018 - accuracy: 0.3188 - val_loss: 1.6805 - val_accuracy: 0.2738\n",
            "Epoch 85/100\n",
            "78/78 [==============================] - 6s 77ms/step - loss: 1.6001 - accuracy: 0.3216 - val_loss: 1.6944 - val_accuracy: 0.2586\n",
            "Epoch 86/100\n",
            "78/78 [==============================] - 6s 78ms/step - loss: 1.5998 - accuracy: 0.3180 - val_loss: 1.6898 - val_accuracy: 0.2700\n",
            "Epoch 87/100\n",
            "78/78 [==============================] - 6s 78ms/step - loss: 1.6011 - accuracy: 0.3214 - val_loss: 1.6891 - val_accuracy: 0.2662\n",
            "Epoch 88/100\n",
            "78/78 [==============================] - 6s 80ms/step - loss: 1.6006 - accuracy: 0.3218 - val_loss: 1.6839 - val_accuracy: 0.2776\n",
            "Epoch 89/100\n",
            "78/78 [==============================] - 7s 84ms/step - loss: 1.6005 - accuracy: 0.3200 - val_loss: 1.6835 - val_accuracy: 0.2776\n",
            "Epoch 90/100\n",
            "78/78 [==============================] - 7s 85ms/step - loss: 1.6004 - accuracy: 0.3200 - val_loss: 1.6908 - val_accuracy: 0.2700\n",
            "Epoch 91/100\n",
            "78/78 [==============================] - 6s 83ms/step - loss: 1.6004 - accuracy: 0.3206 - val_loss: 1.6902 - val_accuracy: 0.2738\n",
            "Epoch 92/100\n",
            "78/78 [==============================] - 6s 80ms/step - loss: 1.5991 - accuracy: 0.3232 - val_loss: 1.6832 - val_accuracy: 0.2776\n",
            "Epoch 93/100\n",
            "78/78 [==============================] - 6s 77ms/step - loss: 1.6000 - accuracy: 0.3244 - val_loss: 1.7083 - val_accuracy: 0.2662\n",
            "Epoch 94/100\n",
            "78/78 [==============================] - 6s 77ms/step - loss: 1.6012 - accuracy: 0.3178 - val_loss: 1.6918 - val_accuracy: 0.2662\n",
            "Epoch 95/100\n",
            "78/78 [==============================] - 6s 77ms/step - loss: 1.6015 - accuracy: 0.3222 - val_loss: 1.6832 - val_accuracy: 0.2738\n",
            "Epoch 96/100\n",
            "78/78 [==============================] - 6s 76ms/step - loss: 1.5987 - accuracy: 0.3254 - val_loss: 1.6937 - val_accuracy: 0.2586\n",
            "Epoch 97/100\n",
            "78/78 [==============================] - 6s 77ms/step - loss: 1.6015 - accuracy: 0.3212 - val_loss: 1.6851 - val_accuracy: 0.2852\n",
            "Epoch 98/100\n",
            "78/78 [==============================] - 6s 77ms/step - loss: 1.6003 - accuracy: 0.3192 - val_loss: 1.6856 - val_accuracy: 0.2776\n",
            "Epoch 99/100\n",
            "78/78 [==============================] - 6s 78ms/step - loss: 1.6008 - accuracy: 0.3264 - val_loss: 1.6805 - val_accuracy: 0.2738\n",
            "Epoch 100/100\n",
            "78/78 [==============================] - 6s 77ms/step - loss: 1.6021 - accuracy: 0.3214 - val_loss: 1.6826 - val_accuracy: 0.2814\n"
          ],
          "name": "stdout"
        }
      ]
    },
    {
      "cell_type": "code",
      "metadata": {
        "id": "ul5gC4WRMEph"
      },
      "source": [
        "test_eval_1D = model.evaluate(Test, TestHot, verbose=1)\n",
        "print('Test loss:', test_eval_1D[0])\n",
        "print('Test accuracy:', test_eval_1D[1])"
      ],
      "execution_count": null,
      "outputs": []
    },
    {
      "cell_type": "code",
      "metadata": {
        "colab": {
          "base_uri": "https://localhost:8080/"
        },
        "id": "38q9oT48CdAd",
        "outputId": "fe35aafc-6e45-49c0-d265-8dd199257e9e"
      },
      "source": [
        "energy_predict=model.predict(Test,verbose=1)\n",
        "\n",
        "energy_predict_not_hot=energy_predict.argmax(axis=1)\n",
        "TestnotHot=TestHot.argmax(axis=1)\n",
        "print(np.unique(energy_predict_not_hot))\n",
        "print(np.unique(TestnotHot))\n",
        "measure_f(TestnotHot,energy_predict_not_hot)"
      ],
      "execution_count": null,
      "outputs": [
        {
          "output_type": "stream",
          "text": [
            "71/71 [==============================] - 1s 7ms/step\n",
            "[0 1 2 5]\n",
            "[0 1 2 3 4 5]\n",
            "The F-Measure Score is:\n",
            " 0.3151111111111111\n"
          ],
          "name": "stdout"
        }
      ]
    },
    {
      "cell_type": "code",
      "metadata": {
        "colab": {
          "base_uri": "https://localhost:8080/"
        },
        "id": "93ktcPyaFQE6",
        "outputId": "291afdee-11bc-4d8b-b6c0-2b90fde24e6b"
      },
      "source": [
        "confusion_energy = confusion(TestnotHot, energy_predict_not_hot)\n",
        "print(confusion_energy)"
      ],
      "execution_count": null,
      "outputs": [
        {
          "output_type": "stream",
          "text": [
            "[[151  72 103   0   0   3]\n",
            " [105 163  50   0   0  66]\n",
            " [122  31 233   0   0   3]\n",
            " [124  82 146   0   0  32]\n",
            " [ 99 113 103   0   0  68]\n",
            " [ 75 115  29   0   0 162]]\n"
          ],
          "name": "stdout"
        }
      ]
    },
    {
      "cell_type": "code",
      "metadata": {
        "colab": {
          "base_uri": "https://localhost:8080/",
          "height": 265
        },
        "id": "eMlsjIlMJEIW",
        "outputId": "dacfe08a-ed97-4879-fed4-6278115c17c9"
      },
      "source": [
        "plt.plot(confusion_energy)\n",
        "plt.show()"
      ],
      "execution_count": null,
      "outputs": [
        {
          "output_type": "display_data",
          "data": {
            "image/png": "[encoded data removed]",
            "text/plain": [
              "<Figure size 432x288 with 1 Axes>"
            ]
          },
          "metadata": {
            "tags": [],
            "needs_background": "light"
          }
        }
      ]
    },
    {
      "cell_type": "code",
      "metadata": {
        "id": "CQ-hcMUDPBd4"
      },
      "source": [
        "model.save(\"/content/drive/MyDrive/1D.h5py\")"
      ],
      "execution_count": null,
      "outputs": []
    }
  ]
}
